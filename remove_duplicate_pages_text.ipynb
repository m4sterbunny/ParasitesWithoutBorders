{
  "nbformat": 4,
  "nbformat_minor": 0,
  "metadata": {
    "colab": {
      "name": "remove_duplicate_pages_text.ipynb",
      "version": "0.3.2",
      "provenance": [],
      "collapsed_sections": [],
      "include_colab_link": true
    },
    "kernelspec": {
      "name": "python3",
      "display_name": "Python 3"
    }
  },
  "cells": [
    {
      "cell_type": "markdown",
      "metadata": {
        "id": "view-in-github",
        "colab_type": "text"
      },
      "source": [
        "<a href=\"https://colab.research.google.com/github/m4sterbunny/ParasitesWithoutBorders/blob/master/remove_duplicate_pages_text.ipynb\" target=\"_parent\"><img src=\"https://colab.research.google.com/assets/colab-badge.svg\" alt=\"Open In Colab\"/></a>"
      ]
    },
    {
      "metadata": {
        "id": "Ez3lML9lhMc1",
        "colab_type": "code",
        "outputId": "415cdc1a-9776-4919-e15e-3be711bd48fa",
        "colab": {
          "base_uri": "https://localhost:8080/",
          "height": 35
        }
      },
      "cell_type": "code",
      "source": [
        "from google.colab import drive\n",
        "drive.mount('/content/gdrive')"
      ],
      "execution_count": 42,
      "outputs": [
        {
          "output_type": "stream",
          "text": [
            "Drive already mounted at /content/gdrive; to attempt to forcibly remount, call drive.mount(\"/content/gdrive\", force_remount=True).\n"
          ],
          "name": "stdout"
        }
      ]
    },
    {
      "metadata": {
        "id": "MJfTWZXG_5PX",
        "colab_type": "code",
        "colab": {}
      },
      "cell_type": "code",
      "source": [
        "# EDIT FILE NAMES and FRONT MATTER\n",
        "# the names of the input and output files can be changed here\n",
        "dirty_index = '/content/gdrive/My Drive/index.txt'\n",
        "clean_index = \"clean_index_20190424.txt\"\n",
        "# list all roman numerals here (currently up to 12)\n",
        "front_matter = [\n",
        "    \"i\", \"ii\", \"iii\", \"iv\", \"v\", \"vi\", \"vii\", \"viii\", \"ix\", \"x\", \"xi\", \"xii\"]\n"
      ],
      "execution_count": 0,
      "outputs": []
    },
    {
      "metadata": {
        "id": "szoAWncfYGLz",
        "colab_type": "code",
        "colab": {}
      },
      "cell_type": "code",
      "source": [
        "# Function to make page ranges\n",
        "def formatpagelist(numberlist):\n",
        "    prev_number = min(numberlist) if numberlist else None\n",
        "    pagelist = list()\n",
        "\n",
        "    for number in sorted(numberlist):\n",
        "        if number != prev_number+1:\n",
        "            pagelist.append([number])\n",
        "        elif len(pagelist[-1]) > 1:\n",
        "            pagelist[-1][-1] = number\n",
        "        else:\n",
        "            pagelist[-1].append(number)\n",
        "        prev_number = number\n",
        "\n",
        "    return ', '.join(['-'.join(map(str,page)) for page in pagelist])\n",
        "\n",
        "# Read txt file, with/as closes safely if error occurs\n",
        "with open(dirty_index, \"r\") as file:\n",
        "    word_dict = dict()\n",
        "    for line in file:\n",
        "        line = line.strip(\"\\n\")\n",
        "        word_pages = line.split(\":\")\n",
        "        key = word_pages[0]\n",
        "        pages_list = word_pages[1].split(\", \")\n",
        "\n",
        "        # Remove duplicates\n",
        "        clean_pages = []\n",
        "        for item in pages_list:\n",
        "            # only add page if not in list\n",
        "            if item not in clean_pages:\n",
        "                clean_pages.append(item)\n",
        "\n",
        "        roman_list = []\n",
        "        int_pages = []\n",
        "        for item in clean_pages:\n",
        "            if item in front_matter:\n",
        "                roman_list.append(item)\n",
        "            else:\n",
        "                int_pages.append(int(item))\n",
        "\n",
        "        # Roman numeral pages in front matter\n",
        "        roman_pages = str()\n",
        "        for page in roman_list:\n",
        "            roman_pages += \"{p}, \".format(p=page)\n",
        "        # Format so pages separated by a comma or made into a range\n",
        "        pages = formatpagelist(int_pages)\n",
        "\n",
        "        # Add Roman numerals to integer page numbers\n",
        "        if roman_list == []:\n",
        "            word_dict[key] = pages\n",
        "        else:\n",
        "            word_dict[key] = roman_pages + pages\n",
        "\n",
        "# Make a new file with clean index\n",
        "with open(clean_index, 'w')as file:\n",
        "    key_list = word_dict.keys()\n",
        "    index_lines = str()\n",
        "    for key in key_list:\n",
        "        index_lines += \"{word}: \".format(word=key)\n",
        "        index_lines += \"{p}\\n\".format(p=word_dict[key])\n",
        "\n",
        "    file.write(index_lines)\n",
        "    #print(index_lines)\n",
        "\n",
        "# Will download file onto local directory\n",
        "from google.colab import files\n",
        "files.download(clean_index)"
      ],
      "execution_count": 0,
      "outputs": []
    }
  ]
}